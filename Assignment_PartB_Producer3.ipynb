{
 "cells": [
  {
   "cell_type": "markdown",
   "id": "9d542c96",
   "metadata": {},
   "source": [
    "### Producer 3\n",
    "This program loads all data from the hotspot_AQUA_streaming.csv, and randomly feed the data to the stream every n seconds, where n is a random number. Additional information such as producer info and created date is attached.\n"
   ]
  },
  {
   "cell_type": "code",
   "execution_count": 1,
   "id": "dfcaa48c",
   "metadata": {},
   "outputs": [
    {
     "name": "stdout",
     "output_type": "stream",
     "text": [
      "Requirement already satisfied: kafka in /opt/conda/lib/python3.8/site-packages (1.3.5)\n",
      "Note: you may need to restart the kernel to use updated packages.\n"
     ]
    }
   ],
   "source": [
    "%pip install kafka"
   ]
  },
  {
   "cell_type": "code",
   "execution_count": null,
   "id": "d6ace7f1",
   "metadata": {},
   "outputs": [
    {
     "name": "stdout",
     "output_type": "stream",
     "text": [
      "Publishing records..\n",
      "Message published successfully. Data: {\"latitude\": -38.0233, \"longitude\": 146.5253, \"confidence\": 94, \"surface_temperature_celcius\": 103, \"producer\": \"hotspot_terra\", \"created_time\": \"13:26:53\"}\n",
      "Message published successfully. Data: {\"latitude\": -35.6819, \"longitude\": 143.5275, \"confidence\": 91, \"surface_temperature_celcius\": 69, \"producer\": \"hotspot_terra\", \"created_time\": \"23:54:14\"}\n",
      "Message published successfully. Data: {\"latitude\": -36.477, \"longitude\": 144.5887, \"confidence\": 100, \"surface_temperature_celcius\": 101, \"producer\": \"hotspot_terra\", \"created_time\": \"10:54:17\"}\n",
      "Message published successfully. Data: {\"latitude\": -36.4422, \"longitude\": 141.427, \"confidence\": 54, \"surface_temperature_celcius\": 39, \"producer\": \"hotspot_terra\", \"created_time\": \"23:14:14\"}\n",
      "Message published successfully. Data: {\"latitude\": -36.5104, \"longitude\": 144.4674, \"confidence\": 88, \"surface_temperature_celcius\": 64, \"producer\": \"hotspot_terra\", \"created_time\": \"08:55:12\"}\n",
      "Message published successfully. Data: {\"latitude\": -36.6303, \"longitude\": 144.695, \"confidence\": 72, \"surface_temperature_celcius\": 46, \"producer\": \"hotspot_terra\", \"created_time\": \"23:14:34\"}\n",
      "Message published successfully. Data: {\"latitude\": -36.6686, \"longitude\": 142.5195, \"confidence\": 82, \"surface_temperature_celcius\": 56, \"producer\": \"hotspot_terra\", \"created_time\": \"22:36:24\"}\n",
      "Message published successfully. Data: {\"latitude\": -37.7871, \"longitude\": 142.718, \"confidence\": 70, \"surface_temperature_celcius\": 45, \"producer\": \"hotspot_terra\", \"created_time\": \"00:23:41\"}\n",
      "Message published successfully. Data: {\"latitude\": -36.2761, \"longitude\": 145.8256, \"confidence\": 53, \"surface_temperature_celcius\": 43, \"producer\": \"hotspot_terra\", \"created_time\": \"13:39:37\"}\n",
      "Message published successfully. Data: {\"latitude\": -36.5532, \"longitude\": 142.5349, \"confidence\": 90, \"surface_temperature_celcius\": 67, \"producer\": \"hotspot_terra\", \"created_time\": \"09:23:39\"}\n",
      "Message published successfully. Data: {\"latitude\": -36.8986, \"longitude\": 141.6385, \"confidence\": 72, \"surface_temperature_celcius\": 52, \"producer\": \"hotspot_terra\", \"created_time\": \"16:13:19\"}\n",
      "Message published successfully. Data: {\"latitude\": -35.708, \"longitude\": 143.7987, \"confidence\": 50, \"surface_temperature_celcius\": 38, \"producer\": \"hotspot_terra\", \"created_time\": \"11:33:23\"}\n",
      "Message published successfully. Data: {\"latitude\": -37.708, \"longitude\": 145.1, \"confidence\": 80, \"surface_temperature_celcius\": 54, \"producer\": \"hotspot_terra\", \"created_time\": \"03:53:11\"}\n",
      "Message published successfully. Data: {\"latitude\": -37.6, \"longitude\": 149.297, \"confidence\": 69, \"surface_temperature_celcius\": 50, \"producer\": \"hotspot_terra\", \"created_time\": \"03:22:24\"}\n",
      "Message published successfully. Data: {\"latitude\": -37.332, \"longitude\": 143.375, \"confidence\": 64, \"surface_temperature_celcius\": 46, \"producer\": \"hotspot_terra\", \"created_time\": \"23:43:36\"}\n",
      "Message published successfully. Data: {\"latitude\": -36.5024, \"longitude\": 144.3542, \"confidence\": 80, \"surface_temperature_celcius\": 54, \"producer\": \"hotspot_terra\", \"created_time\": \"05:46:42\"}\n",
      "Message published successfully. Data: {\"latitude\": -36.2531, \"longitude\": 142.0113, \"confidence\": 70, \"surface_temperature_celcius\": 45, \"producer\": \"hotspot_terra\", \"created_time\": \"22:01:14\"}\n",
      "Message published successfully. Data: {\"latitude\": -37.5915, \"longitude\": 143.1328, \"confidence\": 81, \"surface_temperature_celcius\": 54, \"producer\": \"hotspot_terra\", \"created_time\": \"08:24:35\"}\n",
      "Message published successfully. Data: {\"latitude\": -38.0574, \"longitude\": 143.6523, \"confidence\": 64, \"surface_temperature_celcius\": 42, \"producer\": \"hotspot_terra\", \"created_time\": \"23:40:02\"}\n",
      "Message published successfully. Data: {\"latitude\": -38.0189, \"longitude\": 143.6406, \"confidence\": 68, \"surface_temperature_celcius\": 44, \"producer\": \"hotspot_terra\", \"created_time\": \"22:14:57\"}\n",
      "Message published successfully. Data: {\"latitude\": -38.1719, \"longitude\": 143.0705, \"confidence\": 68, \"surface_temperature_celcius\": 44, \"producer\": \"hotspot_terra\", \"created_time\": \"02:28:30\"}\n",
      "Message published successfully. Data: {\"latitude\": -36.163, \"longitude\": 145.98, \"confidence\": 79, \"surface_temperature_celcius\": 53, \"producer\": \"hotspot_terra\", \"created_time\": \"23:01:27\"}\n",
      "Message published successfully. Data: {\"latitude\": -35.1132, \"longitude\": 141.1516, \"confidence\": 74, \"surface_temperature_celcius\": 48, \"producer\": \"hotspot_terra\", \"created_time\": \"17:07:04\"}\n",
      "Message published successfully. Data: {\"latitude\": -34.8892, \"longitude\": 142.0679, \"confidence\": 76, \"surface_temperature_celcius\": 49, \"producer\": \"hotspot_terra\", \"created_time\": \"11:44:29\"}\n",
      "Message published successfully. Data: {\"latitude\": -36.634, \"longitude\": 144.5408, \"confidence\": 73, \"surface_temperature_celcius\": 47, \"producer\": \"hotspot_terra\", \"created_time\": \"02:37:36\"}\n",
      "Message published successfully. Data: {\"latitude\": -37.538, \"longitude\": 148.895, \"confidence\": 74, \"surface_temperature_celcius\": 35, \"producer\": \"hotspot_terra\", \"created_time\": \"05:56:03\"}\n"
     ]
    }
   ],
   "source": [
    "from time import sleep\n",
    "from json import dumps\n",
    "import json\n",
    "from kafka3 import KafkaProducer\n",
    "import random\n",
    "import datetime as dt\n",
    "import pandas as pd\n",
    "from pymongo import MongoClient\n",
    "\n",
    "hostip = \"10.192.104.132\"\n",
    "client = MongoClient(hostip, 27017)\n",
    "db = client[\"fit3182_assignment_db\"]\n",
    "\n",
    "climate_data_collection = db[\"climate_data\"]\n",
    "topic = 'PartB'\n",
    "\n",
    "#referenced from week 10 lab, producer 1\n",
    "def publish_message(producer_instance, topic_name, key, value):\n",
    "    try:\n",
    "        \n",
    "\n",
    "        key_bytes = bytes(key, encoding='utf-8')\n",
    "        value_bytes = bytes(value, encoding='utf-8')\n",
    "        producer_instance.send(topic_name, key=key_bytes, value=value_bytes)\n",
    "        producer_instance.flush()\n",
    "        print('Message published successfully. Data: ' + str(value))\n",
    "    except Exception as ex:\n",
    "        print('Exception in publishing message.')\n",
    "        print(str(ex))\n",
    "        \n",
    "def connect_kafka_producer():\n",
    "    _producer = None\n",
    "    try:\n",
    "        _producer = KafkaProducer(bootstrap_servers=[f'{hostip}:9092'],\n",
    "                                  api_version=(0, 10))\n",
    "    except Exception as ex:\n",
    "        print('Exception while connecting Kafka.')\n",
    "        print(str(ex))\n",
    "    finally:\n",
    "        return _producer\n",
    "    \n",
    "\n",
    "if __name__ == '__main__':\n",
    "    print('Publishing records..')\n",
    "    producer = connect_kafka_producer()\n",
    "    secs = 15\n",
    "\n",
    "    hotspot_data = pd.read_csv('/home/student/A2/Dataset/hotspot_TERRA_streaming.csv').to_dict(orient='records')\n",
    "\n",
    "    for record in hotspot_data:\n",
    "        selected_record = random.choice(hotspot_data)\n",
    "        selected_record['producer'] = 'hotspot_terra'\n",
    "        \n",
    "        \n",
    "        # Generate random timestamp within current day\n",
    "        random_hour = random.randint(0, 23)\n",
    "        random_minute = random.randint(0, 59)\n",
    "        random_second = random.randint(0, 59)\n",
    "        random_time = dt.datetime.now().replace(hour=random_hour, minute=random_minute, second=random_second)\n",
    "        \n",
    "        # Create message with random timestamp\n",
    "        selected_record['created_time'] = random_time.strftime('%H:%M:%S')\n",
    "\n",
    "        # Publish the record to Kafka\n",
    "        publish_message(producer, topic, 'parsed', dumps(selected_record))\n",
    "\n",
    "        sleep(secs)"
   ]
  },
  {
   "cell_type": "code",
   "execution_count": null,
   "id": "35c70d68",
   "metadata": {},
   "outputs": [],
   "source": []
  }
 ],
 "metadata": {
  "kernelspec": {
   "display_name": "Python 3 (ipykernel)",
   "language": "python",
   "name": "python3"
  },
  "language_info": {
   "codemirror_mode": {
    "name": "ipython",
    "version": 3
   },
   "file_extension": ".py",
   "mimetype": "text/x-python",
   "name": "python",
   "nbconvert_exporter": "python",
   "pygments_lexer": "ipython3",
   "version": "3.8.16"
  }
 },
 "nbformat": 4,
 "nbformat_minor": 5
}
